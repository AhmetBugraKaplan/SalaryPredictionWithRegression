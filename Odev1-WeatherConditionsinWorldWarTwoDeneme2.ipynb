{
 "cells": [
  {
   "cell_type": "code",
   "execution_count": 1,
   "id": "5cfdc1a3-7fbe-4ec0-8bb8-89a6e7ea510e",
   "metadata": {},
   "outputs": [],
   "source": [
    "import numpy as np\n",
    "import pandas as pd\n",
    "import seaborn as sns\n",
    "import matplotlib.pyplot as plt"
   ]
  },
  {
   "cell_type": "code",
   "execution_count": 2,
   "id": "e3dfa2b3-5dc3-48b3-a3a3-1d77845d13b5",
   "metadata": {},
   "outputs": [],
   "source": [
    "df = pd.read_csv(\"SummaryofWeather.csv\", low_memory=False)"
   ]
  },
  {
   "cell_type": "code",
   "execution_count": 3,
   "id": "be9400b0-d0b1-4fc2-bda8-72ee4cd7876a",
   "metadata": {},
   "outputs": [
    {
     "data": {
      "text/html": [
       "<div>\n",
       "<style scoped>\n",
       "    .dataframe tbody tr th:only-of-type {\n",
       "        vertical-align: middle;\n",
       "    }\n",
       "\n",
       "    .dataframe tbody tr th {\n",
       "        vertical-align: top;\n",
       "    }\n",
       "\n",
       "    .dataframe thead th {\n",
       "        text-align: right;\n",
       "    }\n",
       "</style>\n",
       "<table border=\"1\" class=\"dataframe\">\n",
       "  <thead>\n",
       "    <tr style=\"text-align: right;\">\n",
       "      <th></th>\n",
       "      <th>STA</th>\n",
       "      <th>Date</th>\n",
       "      <th>Precip</th>\n",
       "      <th>WindGustSpd</th>\n",
       "      <th>MaxTemp</th>\n",
       "      <th>MinTemp</th>\n",
       "      <th>MeanTemp</th>\n",
       "      <th>Snowfall</th>\n",
       "      <th>PoorWeather</th>\n",
       "      <th>YR</th>\n",
       "      <th>...</th>\n",
       "      <th>FB</th>\n",
       "      <th>FTI</th>\n",
       "      <th>ITH</th>\n",
       "      <th>PGT</th>\n",
       "      <th>TSHDSBRSGF</th>\n",
       "      <th>SD3</th>\n",
       "      <th>RHX</th>\n",
       "      <th>RHN</th>\n",
       "      <th>RVG</th>\n",
       "      <th>WTE</th>\n",
       "    </tr>\n",
       "  </thead>\n",
       "  <tbody>\n",
       "    <tr>\n",
       "      <th>0</th>\n",
       "      <td>10001</td>\n",
       "      <td>1942-7-1</td>\n",
       "      <td>1.016</td>\n",
       "      <td>NaN</td>\n",
       "      <td>25.555556</td>\n",
       "      <td>22.222222</td>\n",
       "      <td>23.888889</td>\n",
       "      <td>0</td>\n",
       "      <td>NaN</td>\n",
       "      <td>42</td>\n",
       "      <td>...</td>\n",
       "      <td>NaN</td>\n",
       "      <td>NaN</td>\n",
       "      <td>NaN</td>\n",
       "      <td>NaN</td>\n",
       "      <td>NaN</td>\n",
       "      <td>NaN</td>\n",
       "      <td>NaN</td>\n",
       "      <td>NaN</td>\n",
       "      <td>NaN</td>\n",
       "      <td>NaN</td>\n",
       "    </tr>\n",
       "    <tr>\n",
       "      <th>1</th>\n",
       "      <td>10001</td>\n",
       "      <td>1942-7-2</td>\n",
       "      <td>0</td>\n",
       "      <td>NaN</td>\n",
       "      <td>28.888889</td>\n",
       "      <td>21.666667</td>\n",
       "      <td>25.555556</td>\n",
       "      <td>0</td>\n",
       "      <td>NaN</td>\n",
       "      <td>42</td>\n",
       "      <td>...</td>\n",
       "      <td>NaN</td>\n",
       "      <td>NaN</td>\n",
       "      <td>NaN</td>\n",
       "      <td>NaN</td>\n",
       "      <td>NaN</td>\n",
       "      <td>NaN</td>\n",
       "      <td>NaN</td>\n",
       "      <td>NaN</td>\n",
       "      <td>NaN</td>\n",
       "      <td>NaN</td>\n",
       "    </tr>\n",
       "    <tr>\n",
       "      <th>2</th>\n",
       "      <td>10001</td>\n",
       "      <td>1942-7-3</td>\n",
       "      <td>2.54</td>\n",
       "      <td>NaN</td>\n",
       "      <td>26.111111</td>\n",
       "      <td>22.222222</td>\n",
       "      <td>24.444444</td>\n",
       "      <td>0</td>\n",
       "      <td>NaN</td>\n",
       "      <td>42</td>\n",
       "      <td>...</td>\n",
       "      <td>NaN</td>\n",
       "      <td>NaN</td>\n",
       "      <td>NaN</td>\n",
       "      <td>NaN</td>\n",
       "      <td>NaN</td>\n",
       "      <td>NaN</td>\n",
       "      <td>NaN</td>\n",
       "      <td>NaN</td>\n",
       "      <td>NaN</td>\n",
       "      <td>NaN</td>\n",
       "    </tr>\n",
       "    <tr>\n",
       "      <th>3</th>\n",
       "      <td>10001</td>\n",
       "      <td>1942-7-4</td>\n",
       "      <td>2.54</td>\n",
       "      <td>NaN</td>\n",
       "      <td>26.666667</td>\n",
       "      <td>22.222222</td>\n",
       "      <td>24.444444</td>\n",
       "      <td>0</td>\n",
       "      <td>NaN</td>\n",
       "      <td>42</td>\n",
       "      <td>...</td>\n",
       "      <td>NaN</td>\n",
       "      <td>NaN</td>\n",
       "      <td>NaN</td>\n",
       "      <td>NaN</td>\n",
       "      <td>NaN</td>\n",
       "      <td>NaN</td>\n",
       "      <td>NaN</td>\n",
       "      <td>NaN</td>\n",
       "      <td>NaN</td>\n",
       "      <td>NaN</td>\n",
       "    </tr>\n",
       "    <tr>\n",
       "      <th>4</th>\n",
       "      <td>10001</td>\n",
       "      <td>1942-7-5</td>\n",
       "      <td>0</td>\n",
       "      <td>NaN</td>\n",
       "      <td>26.666667</td>\n",
       "      <td>21.666667</td>\n",
       "      <td>24.444444</td>\n",
       "      <td>0</td>\n",
       "      <td>NaN</td>\n",
       "      <td>42</td>\n",
       "      <td>...</td>\n",
       "      <td>NaN</td>\n",
       "      <td>NaN</td>\n",
       "      <td>NaN</td>\n",
       "      <td>NaN</td>\n",
       "      <td>NaN</td>\n",
       "      <td>NaN</td>\n",
       "      <td>NaN</td>\n",
       "      <td>NaN</td>\n",
       "      <td>NaN</td>\n",
       "      <td>NaN</td>\n",
       "    </tr>\n",
       "  </tbody>\n",
       "</table>\n",
       "<p>5 rows × 31 columns</p>\n",
       "</div>"
      ],
      "text/plain": [
       "     STA      Date Precip  WindGustSpd    MaxTemp    MinTemp   MeanTemp  \\\n",
       "0  10001  1942-7-1  1.016          NaN  25.555556  22.222222  23.888889   \n",
       "1  10001  1942-7-2      0          NaN  28.888889  21.666667  25.555556   \n",
       "2  10001  1942-7-3   2.54          NaN  26.111111  22.222222  24.444444   \n",
       "3  10001  1942-7-4   2.54          NaN  26.666667  22.222222  24.444444   \n",
       "4  10001  1942-7-5      0          NaN  26.666667  21.666667  24.444444   \n",
       "\n",
       "  Snowfall PoorWeather  YR  ...  FB  FTI ITH  PGT  TSHDSBRSGF  SD3  RHX  RHN  \\\n",
       "0        0         NaN  42  ... NaN  NaN NaN  NaN         NaN  NaN  NaN  NaN   \n",
       "1        0         NaN  42  ... NaN  NaN NaN  NaN         NaN  NaN  NaN  NaN   \n",
       "2        0         NaN  42  ... NaN  NaN NaN  NaN         NaN  NaN  NaN  NaN   \n",
       "3        0         NaN  42  ... NaN  NaN NaN  NaN         NaN  NaN  NaN  NaN   \n",
       "4        0         NaN  42  ... NaN  NaN NaN  NaN         NaN  NaN  NaN  NaN   \n",
       "\n",
       "  RVG  WTE  \n",
       "0 NaN  NaN  \n",
       "1 NaN  NaN  \n",
       "2 NaN  NaN  \n",
       "3 NaN  NaN  \n",
       "4 NaN  NaN  \n",
       "\n",
       "[5 rows x 31 columns]"
      ]
     },
     "execution_count": 3,
     "metadata": {},
     "output_type": "execute_result"
    }
   ],
   "source": [
    "df.head()"
   ]
  },
  {
   "cell_type": "code",
   "execution_count": 4,
   "id": "9bcb2dcd-2b80-4e47-9664-0d26a5330dd2",
   "metadata": {},
   "outputs": [
    {
     "name": "stdout",
     "output_type": "stream",
     "text": [
      "<class 'pandas.core.frame.DataFrame'>\n",
      "RangeIndex: 119040 entries, 0 to 119039\n",
      "Data columns (total 31 columns):\n",
      " #   Column       Non-Null Count   Dtype  \n",
      "---  ------       --------------   -----  \n",
      " 0   STA          119040 non-null  int64  \n",
      " 1   Date         119040 non-null  object \n",
      " 2   Precip       119040 non-null  object \n",
      " 3   WindGustSpd  532 non-null     float64\n",
      " 4   MaxTemp      119040 non-null  float64\n",
      " 5   MinTemp      119040 non-null  float64\n",
      " 6   MeanTemp     119040 non-null  float64\n",
      " 7   Snowfall     117877 non-null  object \n",
      " 8   PoorWeather  34237 non-null   object \n",
      " 9   YR           119040 non-null  int64  \n",
      " 10  MO           119040 non-null  int64  \n",
      " 11  DA           119040 non-null  int64  \n",
      " 12  PRCP         117108 non-null  object \n",
      " 13  DR           533 non-null     float64\n",
      " 14  SPD          532 non-null     float64\n",
      " 15  MAX          118566 non-null  float64\n",
      " 16  MIN          118572 non-null  float64\n",
      " 17  MEA          118542 non-null  float64\n",
      " 18  SNF          117877 non-null  object \n",
      " 19  SND          5563 non-null    float64\n",
      " 20  FT           0 non-null       float64\n",
      " 21  FB           0 non-null       float64\n",
      " 22  FTI          0 non-null       float64\n",
      " 23  ITH          0 non-null       float64\n",
      " 24  PGT          525 non-null     float64\n",
      " 25  TSHDSBRSGF   34237 non-null   object \n",
      " 26  SD3          0 non-null       float64\n",
      " 27  RHX          0 non-null       float64\n",
      " 28  RHN          0 non-null       float64\n",
      " 29  RVG          0 non-null       float64\n",
      " 30  WTE          0 non-null       float64\n",
      "dtypes: float64(20), int64(4), object(7)\n",
      "memory usage: 28.2+ MB\n"
     ]
    }
   ],
   "source": [
    "df.info()"
   ]
  },
  {
   "cell_type": "code",
   "execution_count": 5,
   "id": "0d7f6b43-998f-458d-a8a6-d99aa66387a4",
   "metadata": {},
   "outputs": [
    {
     "data": {
      "text/plain": [
       "31"
      ]
     },
     "execution_count": 5,
     "metadata": {},
     "output_type": "execute_result"
    }
   ],
   "source": [
    "len(df.columns)"
   ]
  },
  {
   "cell_type": "code",
   "execution_count": 6,
   "id": "473c75c1-c87d-4c0a-8b73-11e673facfe2",
   "metadata": {},
   "outputs": [],
   "source": [
    "# We create function for delet a null columns\n",
    "\n",
    "def drop_null_columns(df,threshold=0.70):  \n",
    "    for column in df.columns:\n",
    "        if df[column].isnull().sum() > (len(df) * threshold):\n",
    "            df.drop(column,axis=1,inplace=True)"
   ]
  },
  {
   "cell_type": "code",
   "execution_count": 7,
   "id": "9b2fab60-1f4b-49d0-a63f-984e819b736e",
   "metadata": {},
   "outputs": [],
   "source": [
    "drop_null_columns(df)"
   ]
  },
  {
   "cell_type": "code",
   "execution_count": 8,
   "id": "29f46425-56e0-4bb7-a0ab-69d4b8415675",
   "metadata": {},
   "outputs": [
    {
     "data": {
      "text/plain": [
       "15"
      ]
     },
     "execution_count": 8,
     "metadata": {},
     "output_type": "execute_result"
    }
   ],
   "source": [
    "len(df.columns)"
   ]
  },
  {
   "cell_type": "code",
   "execution_count": 9,
   "id": "86e76767-57d4-42d1-b305-505262fc43d6",
   "metadata": {},
   "outputs": [
    {
     "data": {
      "text/html": [
       "<div>\n",
       "<style scoped>\n",
       "    .dataframe tbody tr th:only-of-type {\n",
       "        vertical-align: middle;\n",
       "    }\n",
       "\n",
       "    .dataframe tbody tr th {\n",
       "        vertical-align: top;\n",
       "    }\n",
       "\n",
       "    .dataframe thead th {\n",
       "        text-align: right;\n",
       "    }\n",
       "</style>\n",
       "<table border=\"1\" class=\"dataframe\">\n",
       "  <thead>\n",
       "    <tr style=\"text-align: right;\">\n",
       "      <th></th>\n",
       "      <th>STA</th>\n",
       "      <th>Date</th>\n",
       "      <th>Precip</th>\n",
       "      <th>MaxTemp</th>\n",
       "      <th>MinTemp</th>\n",
       "      <th>MeanTemp</th>\n",
       "      <th>Snowfall</th>\n",
       "      <th>YR</th>\n",
       "      <th>MO</th>\n",
       "      <th>DA</th>\n",
       "      <th>PRCP</th>\n",
       "      <th>MAX</th>\n",
       "      <th>MIN</th>\n",
       "      <th>MEA</th>\n",
       "      <th>SNF</th>\n",
       "    </tr>\n",
       "  </thead>\n",
       "  <tbody>\n",
       "    <tr>\n",
       "      <th>0</th>\n",
       "      <td>10001</td>\n",
       "      <td>1942-7-1</td>\n",
       "      <td>1.016</td>\n",
       "      <td>25.555556</td>\n",
       "      <td>22.222222</td>\n",
       "      <td>23.888889</td>\n",
       "      <td>0</td>\n",
       "      <td>42</td>\n",
       "      <td>7</td>\n",
       "      <td>1</td>\n",
       "      <td>0.04</td>\n",
       "      <td>78.0</td>\n",
       "      <td>72.0</td>\n",
       "      <td>75.0</td>\n",
       "      <td>0</td>\n",
       "    </tr>\n",
       "    <tr>\n",
       "      <th>1</th>\n",
       "      <td>10001</td>\n",
       "      <td>1942-7-2</td>\n",
       "      <td>0</td>\n",
       "      <td>28.888889</td>\n",
       "      <td>21.666667</td>\n",
       "      <td>25.555556</td>\n",
       "      <td>0</td>\n",
       "      <td>42</td>\n",
       "      <td>7</td>\n",
       "      <td>2</td>\n",
       "      <td>0</td>\n",
       "      <td>84.0</td>\n",
       "      <td>71.0</td>\n",
       "      <td>78.0</td>\n",
       "      <td>0</td>\n",
       "    </tr>\n",
       "    <tr>\n",
       "      <th>2</th>\n",
       "      <td>10001</td>\n",
       "      <td>1942-7-3</td>\n",
       "      <td>2.54</td>\n",
       "      <td>26.111111</td>\n",
       "      <td>22.222222</td>\n",
       "      <td>24.444444</td>\n",
       "      <td>0</td>\n",
       "      <td>42</td>\n",
       "      <td>7</td>\n",
       "      <td>3</td>\n",
       "      <td>0.1</td>\n",
       "      <td>79.0</td>\n",
       "      <td>72.0</td>\n",
       "      <td>76.0</td>\n",
       "      <td>0</td>\n",
       "    </tr>\n",
       "    <tr>\n",
       "      <th>3</th>\n",
       "      <td>10001</td>\n",
       "      <td>1942-7-4</td>\n",
       "      <td>2.54</td>\n",
       "      <td>26.666667</td>\n",
       "      <td>22.222222</td>\n",
       "      <td>24.444444</td>\n",
       "      <td>0</td>\n",
       "      <td>42</td>\n",
       "      <td>7</td>\n",
       "      <td>4</td>\n",
       "      <td>0.1</td>\n",
       "      <td>80.0</td>\n",
       "      <td>72.0</td>\n",
       "      <td>76.0</td>\n",
       "      <td>0</td>\n",
       "    </tr>\n",
       "    <tr>\n",
       "      <th>4</th>\n",
       "      <td>10001</td>\n",
       "      <td>1942-7-5</td>\n",
       "      <td>0</td>\n",
       "      <td>26.666667</td>\n",
       "      <td>21.666667</td>\n",
       "      <td>24.444444</td>\n",
       "      <td>0</td>\n",
       "      <td>42</td>\n",
       "      <td>7</td>\n",
       "      <td>5</td>\n",
       "      <td>0</td>\n",
       "      <td>80.0</td>\n",
       "      <td>71.0</td>\n",
       "      <td>76.0</td>\n",
       "      <td>0</td>\n",
       "    </tr>\n",
       "  </tbody>\n",
       "</table>\n",
       "</div>"
      ],
      "text/plain": [
       "     STA      Date Precip    MaxTemp    MinTemp   MeanTemp Snowfall  YR  MO  \\\n",
       "0  10001  1942-7-1  1.016  25.555556  22.222222  23.888889        0  42   7   \n",
       "1  10001  1942-7-2      0  28.888889  21.666667  25.555556        0  42   7   \n",
       "2  10001  1942-7-3   2.54  26.111111  22.222222  24.444444        0  42   7   \n",
       "3  10001  1942-7-4   2.54  26.666667  22.222222  24.444444        0  42   7   \n",
       "4  10001  1942-7-5      0  26.666667  21.666667  24.444444        0  42   7   \n",
       "\n",
       "   DA  PRCP   MAX   MIN   MEA SNF  \n",
       "0   1  0.04  78.0  72.0  75.0   0  \n",
       "1   2     0  84.0  71.0  78.0   0  \n",
       "2   3   0.1  79.0  72.0  76.0   0  \n",
       "3   4   0.1  80.0  72.0  76.0   0  \n",
       "4   5     0  80.0  71.0  76.0   0  "
      ]
     },
     "execution_count": 9,
     "metadata": {},
     "output_type": "execute_result"
    }
   ],
   "source": [
    "df.head()"
   ]
  },
  {
   "cell_type": "code",
   "execution_count": 10,
   "id": "6544c4db-37ef-4b63-9fc1-e548be3e9188",
   "metadata": {},
   "outputs": [],
   "source": [
    "df[\"Date\"] = pd.to_datetime(df[\"Date\"])"
   ]
  },
  {
   "cell_type": "code",
   "execution_count": 11,
   "id": "01103e0e-c9c2-4826-8535-f3ddb01f6d28",
   "metadata": {},
   "outputs": [],
   "source": [
    "df[\"Year\"] = df[\"Date\"].dt.year "
   ]
  },
  {
   "cell_type": "code",
   "execution_count": 12,
   "id": "48a10285-e828-42bd-9ddd-614761c755e4",
   "metadata": {},
   "outputs": [],
   "source": [
    "df.drop(\"YR\",axis=1,inplace=True)"
   ]
  },
  {
   "cell_type": "code",
   "execution_count": 13,
   "id": "21f5c72f-2e90-4c20-a1d9-b2bd055da40d",
   "metadata": {},
   "outputs": [
    {
     "name": "stdout",
     "output_type": "stream",
     "text": [
      "<class 'pandas.core.frame.DataFrame'>\n",
      "RangeIndex: 119040 entries, 0 to 119039\n",
      "Data columns (total 15 columns):\n",
      " #   Column    Non-Null Count   Dtype         \n",
      "---  ------    --------------   -----         \n",
      " 0   STA       119040 non-null  int64         \n",
      " 1   Date      119040 non-null  datetime64[ns]\n",
      " 2   Precip    119040 non-null  object        \n",
      " 3   MaxTemp   119040 non-null  float64       \n",
      " 4   MinTemp   119040 non-null  float64       \n",
      " 5   MeanTemp  119040 non-null  float64       \n",
      " 6   Snowfall  117877 non-null  object        \n",
      " 7   MO        119040 non-null  int64         \n",
      " 8   DA        119040 non-null  int64         \n",
      " 9   PRCP      117108 non-null  object        \n",
      " 10  MAX       118566 non-null  float64       \n",
      " 11  MIN       118572 non-null  float64       \n",
      " 12  MEA       118542 non-null  float64       \n",
      " 13  SNF       117877 non-null  object        \n",
      " 14  Year      119040 non-null  int32         \n",
      "dtypes: datetime64[ns](1), float64(6), int32(1), int64(3), object(4)\n",
      "memory usage: 13.2+ MB\n"
     ]
    }
   ],
   "source": [
    "df.info()"
   ]
  },
  {
   "cell_type": "code",
   "execution_count": 14,
   "id": "f7f78c97-17e6-4a31-a437-b1fa7da2de56",
   "metadata": {},
   "outputs": [],
   "source": [
    "#We need to use date and time information, but we cannot directly use it as a date object. \n",
    "#Therefore, we apply a trigonometric transformation to represent it in a cyclical way. \n",
    "\n",
    "df['Month_sin'] = np.sin(2 * np.pi * df['MO'] / 12)\n",
    "df['Month_cos'] = np.cos(2 * np.pi * df['MO'] / 12)\n",
    "\n",
    "df['DayOfYear'] = df['Date'].dt.dayofyear\n",
    "df['Day_sin'] = np.sin(2 * np.pi * df['DayOfYear'] / 365)\n",
    "df['Day_cos'] = np.cos(2 * np.pi * df['DayOfYear'] / 365)"
   ]
  },
  {
   "cell_type": "code",
   "execution_count": 15,
   "id": "dfe62700-0fd7-4edd-97d8-7a4607901dac",
   "metadata": {},
   "outputs": [
    {
     "data": {
      "text/html": [
       "<div>\n",
       "<style scoped>\n",
       "    .dataframe tbody tr th:only-of-type {\n",
       "        vertical-align: middle;\n",
       "    }\n",
       "\n",
       "    .dataframe tbody tr th {\n",
       "        vertical-align: top;\n",
       "    }\n",
       "\n",
       "    .dataframe thead th {\n",
       "        text-align: right;\n",
       "    }\n",
       "</style>\n",
       "<table border=\"1\" class=\"dataframe\">\n",
       "  <thead>\n",
       "    <tr style=\"text-align: right;\">\n",
       "      <th></th>\n",
       "      <th>STA</th>\n",
       "      <th>Date</th>\n",
       "      <th>Precip</th>\n",
       "      <th>MaxTemp</th>\n",
       "      <th>MinTemp</th>\n",
       "      <th>MeanTemp</th>\n",
       "      <th>Snowfall</th>\n",
       "      <th>MO</th>\n",
       "      <th>DA</th>\n",
       "      <th>PRCP</th>\n",
       "      <th>MAX</th>\n",
       "      <th>MIN</th>\n",
       "      <th>MEA</th>\n",
       "      <th>SNF</th>\n",
       "      <th>Year</th>\n",
       "      <th>Month_sin</th>\n",
       "      <th>Month_cos</th>\n",
       "      <th>DayOfYear</th>\n",
       "      <th>Day_sin</th>\n",
       "      <th>Day_cos</th>\n",
       "    </tr>\n",
       "  </thead>\n",
       "  <tbody>\n",
       "    <tr>\n",
       "      <th>0</th>\n",
       "      <td>10001</td>\n",
       "      <td>1942-07-01</td>\n",
       "      <td>1.016</td>\n",
       "      <td>25.555556</td>\n",
       "      <td>22.222222</td>\n",
       "      <td>23.888889</td>\n",
       "      <td>0</td>\n",
       "      <td>7</td>\n",
       "      <td>1</td>\n",
       "      <td>0.04</td>\n",
       "      <td>78.0</td>\n",
       "      <td>72.0</td>\n",
       "      <td>75.0</td>\n",
       "      <td>0</td>\n",
       "      <td>1942</td>\n",
       "      <td>-0.5</td>\n",
       "      <td>-0.866025</td>\n",
       "      <td>182</td>\n",
       "      <td>0.008607</td>\n",
       "      <td>-0.999963</td>\n",
       "    </tr>\n",
       "    <tr>\n",
       "      <th>1</th>\n",
       "      <td>10001</td>\n",
       "      <td>1942-07-02</td>\n",
       "      <td>0</td>\n",
       "      <td>28.888889</td>\n",
       "      <td>21.666667</td>\n",
       "      <td>25.555556</td>\n",
       "      <td>0</td>\n",
       "      <td>7</td>\n",
       "      <td>2</td>\n",
       "      <td>0</td>\n",
       "      <td>84.0</td>\n",
       "      <td>71.0</td>\n",
       "      <td>78.0</td>\n",
       "      <td>0</td>\n",
       "      <td>1942</td>\n",
       "      <td>-0.5</td>\n",
       "      <td>-0.866025</td>\n",
       "      <td>183</td>\n",
       "      <td>-0.008607</td>\n",
       "      <td>-0.999963</td>\n",
       "    </tr>\n",
       "    <tr>\n",
       "      <th>2</th>\n",
       "      <td>10001</td>\n",
       "      <td>1942-07-03</td>\n",
       "      <td>2.54</td>\n",
       "      <td>26.111111</td>\n",
       "      <td>22.222222</td>\n",
       "      <td>24.444444</td>\n",
       "      <td>0</td>\n",
       "      <td>7</td>\n",
       "      <td>3</td>\n",
       "      <td>0.1</td>\n",
       "      <td>79.0</td>\n",
       "      <td>72.0</td>\n",
       "      <td>76.0</td>\n",
       "      <td>0</td>\n",
       "      <td>1942</td>\n",
       "      <td>-0.5</td>\n",
       "      <td>-0.866025</td>\n",
       "      <td>184</td>\n",
       "      <td>-0.025818</td>\n",
       "      <td>-0.999667</td>\n",
       "    </tr>\n",
       "    <tr>\n",
       "      <th>3</th>\n",
       "      <td>10001</td>\n",
       "      <td>1942-07-04</td>\n",
       "      <td>2.54</td>\n",
       "      <td>26.666667</td>\n",
       "      <td>22.222222</td>\n",
       "      <td>24.444444</td>\n",
       "      <td>0</td>\n",
       "      <td>7</td>\n",
       "      <td>4</td>\n",
       "      <td>0.1</td>\n",
       "      <td>80.0</td>\n",
       "      <td>72.0</td>\n",
       "      <td>76.0</td>\n",
       "      <td>0</td>\n",
       "      <td>1942</td>\n",
       "      <td>-0.5</td>\n",
       "      <td>-0.866025</td>\n",
       "      <td>185</td>\n",
       "      <td>-0.043022</td>\n",
       "      <td>-0.999074</td>\n",
       "    </tr>\n",
       "    <tr>\n",
       "      <th>4</th>\n",
       "      <td>10001</td>\n",
       "      <td>1942-07-05</td>\n",
       "      <td>0</td>\n",
       "      <td>26.666667</td>\n",
       "      <td>21.666667</td>\n",
       "      <td>24.444444</td>\n",
       "      <td>0</td>\n",
       "      <td>7</td>\n",
       "      <td>5</td>\n",
       "      <td>0</td>\n",
       "      <td>80.0</td>\n",
       "      <td>71.0</td>\n",
       "      <td>76.0</td>\n",
       "      <td>0</td>\n",
       "      <td>1942</td>\n",
       "      <td>-0.5</td>\n",
       "      <td>-0.866025</td>\n",
       "      <td>186</td>\n",
       "      <td>-0.060213</td>\n",
       "      <td>-0.998186</td>\n",
       "    </tr>\n",
       "  </tbody>\n",
       "</table>\n",
       "</div>"
      ],
      "text/plain": [
       "     STA       Date Precip    MaxTemp    MinTemp   MeanTemp Snowfall  MO  DA  \\\n",
       "0  10001 1942-07-01  1.016  25.555556  22.222222  23.888889        0   7   1   \n",
       "1  10001 1942-07-02      0  28.888889  21.666667  25.555556        0   7   2   \n",
       "2  10001 1942-07-03   2.54  26.111111  22.222222  24.444444        0   7   3   \n",
       "3  10001 1942-07-04   2.54  26.666667  22.222222  24.444444        0   7   4   \n",
       "4  10001 1942-07-05      0  26.666667  21.666667  24.444444        0   7   5   \n",
       "\n",
       "   PRCP   MAX   MIN   MEA SNF  Year  Month_sin  Month_cos  DayOfYear  \\\n",
       "0  0.04  78.0  72.0  75.0   0  1942       -0.5  -0.866025        182   \n",
       "1     0  84.0  71.0  78.0   0  1942       -0.5  -0.866025        183   \n",
       "2   0.1  79.0  72.0  76.0   0  1942       -0.5  -0.866025        184   \n",
       "3   0.1  80.0  72.0  76.0   0  1942       -0.5  -0.866025        185   \n",
       "4     0  80.0  71.0  76.0   0  1942       -0.5  -0.866025        186   \n",
       "\n",
       "    Day_sin   Day_cos  \n",
       "0  0.008607 -0.999963  \n",
       "1 -0.008607 -0.999963  \n",
       "2 -0.025818 -0.999667  \n",
       "3 -0.043022 -0.999074  \n",
       "4 -0.060213 -0.998186  "
      ]
     },
     "execution_count": 15,
     "metadata": {},
     "output_type": "execute_result"
    }
   ],
   "source": [
    "df.head()"
   ]
  },
  {
   "cell_type": "code",
   "execution_count": 16,
   "id": "74ffd295-6acd-48b9-9993-831d54ca754a",
   "metadata": {},
   "outputs": [],
   "source": [
    "df.drop([\"Date\",\"MO\",\"DA\",\"Year\",\"MAX\",\"MIN\",\"MinTemp\",\"DayOfYear\",\"MEA\"],axis=1,inplace=True)"
   ]
  },
  {
   "cell_type": "code",
   "execution_count": 17,
   "id": "009eb29b-a35d-43ab-aad6-44e8d7168d50",
   "metadata": {},
   "outputs": [
    {
     "data": {
      "text/html": [
       "<div>\n",
       "<style scoped>\n",
       "    .dataframe tbody tr th:only-of-type {\n",
       "        vertical-align: middle;\n",
       "    }\n",
       "\n",
       "    .dataframe tbody tr th {\n",
       "        vertical-align: top;\n",
       "    }\n",
       "\n",
       "    .dataframe thead th {\n",
       "        text-align: right;\n",
       "    }\n",
       "</style>\n",
       "<table border=\"1\" class=\"dataframe\">\n",
       "  <thead>\n",
       "    <tr style=\"text-align: right;\">\n",
       "      <th></th>\n",
       "      <th>STA</th>\n",
       "      <th>Precip</th>\n",
       "      <th>MaxTemp</th>\n",
       "      <th>MeanTemp</th>\n",
       "      <th>Snowfall</th>\n",
       "      <th>PRCP</th>\n",
       "      <th>SNF</th>\n",
       "      <th>Month_sin</th>\n",
       "      <th>Month_cos</th>\n",
       "      <th>Day_sin</th>\n",
       "      <th>Day_cos</th>\n",
       "    </tr>\n",
       "  </thead>\n",
       "  <tbody>\n",
       "    <tr>\n",
       "      <th>0</th>\n",
       "      <td>10001</td>\n",
       "      <td>1.016</td>\n",
       "      <td>25.555556</td>\n",
       "      <td>23.888889</td>\n",
       "      <td>0</td>\n",
       "      <td>0.04</td>\n",
       "      <td>0</td>\n",
       "      <td>-0.5</td>\n",
       "      <td>-0.866025</td>\n",
       "      <td>0.008607</td>\n",
       "      <td>-0.999963</td>\n",
       "    </tr>\n",
       "    <tr>\n",
       "      <th>1</th>\n",
       "      <td>10001</td>\n",
       "      <td>0</td>\n",
       "      <td>28.888889</td>\n",
       "      <td>25.555556</td>\n",
       "      <td>0</td>\n",
       "      <td>0</td>\n",
       "      <td>0</td>\n",
       "      <td>-0.5</td>\n",
       "      <td>-0.866025</td>\n",
       "      <td>-0.008607</td>\n",
       "      <td>-0.999963</td>\n",
       "    </tr>\n",
       "    <tr>\n",
       "      <th>2</th>\n",
       "      <td>10001</td>\n",
       "      <td>2.54</td>\n",
       "      <td>26.111111</td>\n",
       "      <td>24.444444</td>\n",
       "      <td>0</td>\n",
       "      <td>0.1</td>\n",
       "      <td>0</td>\n",
       "      <td>-0.5</td>\n",
       "      <td>-0.866025</td>\n",
       "      <td>-0.025818</td>\n",
       "      <td>-0.999667</td>\n",
       "    </tr>\n",
       "    <tr>\n",
       "      <th>3</th>\n",
       "      <td>10001</td>\n",
       "      <td>2.54</td>\n",
       "      <td>26.666667</td>\n",
       "      <td>24.444444</td>\n",
       "      <td>0</td>\n",
       "      <td>0.1</td>\n",
       "      <td>0</td>\n",
       "      <td>-0.5</td>\n",
       "      <td>-0.866025</td>\n",
       "      <td>-0.043022</td>\n",
       "      <td>-0.999074</td>\n",
       "    </tr>\n",
       "    <tr>\n",
       "      <th>4</th>\n",
       "      <td>10001</td>\n",
       "      <td>0</td>\n",
       "      <td>26.666667</td>\n",
       "      <td>24.444444</td>\n",
       "      <td>0</td>\n",
       "      <td>0</td>\n",
       "      <td>0</td>\n",
       "      <td>-0.5</td>\n",
       "      <td>-0.866025</td>\n",
       "      <td>-0.060213</td>\n",
       "      <td>-0.998186</td>\n",
       "    </tr>\n",
       "  </tbody>\n",
       "</table>\n",
       "</div>"
      ],
      "text/plain": [
       "     STA Precip    MaxTemp   MeanTemp Snowfall  PRCP SNF  Month_sin  \\\n",
       "0  10001  1.016  25.555556  23.888889        0  0.04   0       -0.5   \n",
       "1  10001      0  28.888889  25.555556        0     0   0       -0.5   \n",
       "2  10001   2.54  26.111111  24.444444        0   0.1   0       -0.5   \n",
       "3  10001   2.54  26.666667  24.444444        0   0.1   0       -0.5   \n",
       "4  10001      0  26.666667  24.444444        0     0   0       -0.5   \n",
       "\n",
       "   Month_cos   Day_sin   Day_cos  \n",
       "0  -0.866025  0.008607 -0.999963  \n",
       "1  -0.866025 -0.008607 -0.999963  \n",
       "2  -0.866025 -0.025818 -0.999667  \n",
       "3  -0.866025 -0.043022 -0.999074  \n",
       "4  -0.866025 -0.060213 -0.998186  "
      ]
     },
     "execution_count": 17,
     "metadata": {},
     "output_type": "execute_result"
    }
   ],
   "source": [
    "df.head()"
   ]
  },
  {
   "cell_type": "code",
   "execution_count": 18,
   "id": "4fafbc18-446a-47be-a9d2-c63c652d5278",
   "metadata": {},
   "outputs": [
    {
     "name": "stdout",
     "output_type": "stream",
     "text": [
      "<class 'pandas.core.frame.DataFrame'>\n",
      "RangeIndex: 119040 entries, 0 to 119039\n",
      "Data columns (total 11 columns):\n",
      " #   Column     Non-Null Count   Dtype  \n",
      "---  ------     --------------   -----  \n",
      " 0   STA        119040 non-null  int64  \n",
      " 1   Precip     119040 non-null  object \n",
      " 2   MaxTemp    119040 non-null  float64\n",
      " 3   MeanTemp   119040 non-null  float64\n",
      " 4   Snowfall   117877 non-null  object \n",
      " 5   PRCP       117108 non-null  object \n",
      " 6   SNF        117877 non-null  object \n",
      " 7   Month_sin  119040 non-null  float64\n",
      " 8   Month_cos  119040 non-null  float64\n",
      " 9   Day_sin    119040 non-null  float64\n",
      " 10  Day_cos    119040 non-null  float64\n",
      "dtypes: float64(6), int64(1), object(4)\n",
      "memory usage: 10.0+ MB\n"
     ]
    }
   ],
   "source": [
    "df.info()"
   ]
  },
  {
   "cell_type": "code",
   "execution_count": 19,
   "id": "f0f688cf-c830-4460-8d4a-371f558be54d",
   "metadata": {},
   "outputs": [],
   "source": [
    "for column in df.columns:\n",
    "   df.dropna(subset=[column],inplace=True)"
   ]
  },
  {
   "cell_type": "code",
   "execution_count": 20,
   "id": "7df0ccd2-20e8-4fda-92b4-e6dbc3bd690d",
   "metadata": {},
   "outputs": [
    {
     "name": "stdout",
     "output_type": "stream",
     "text": [
      "<class 'pandas.core.frame.DataFrame'>\n",
      "Index: 116174 entries, 0 to 119039\n",
      "Data columns (total 11 columns):\n",
      " #   Column     Non-Null Count   Dtype  \n",
      "---  ------     --------------   -----  \n",
      " 0   STA        116174 non-null  int64  \n",
      " 1   Precip     116174 non-null  object \n",
      " 2   MaxTemp    116174 non-null  float64\n",
      " 3   MeanTemp   116174 non-null  float64\n",
      " 4   Snowfall   116174 non-null  object \n",
      " 5   PRCP       116174 non-null  object \n",
      " 6   SNF        116174 non-null  object \n",
      " 7   Month_sin  116174 non-null  float64\n",
      " 8   Month_cos  116174 non-null  float64\n",
      " 9   Day_sin    116174 non-null  float64\n",
      " 10  Day_cos    116174 non-null  float64\n",
      "dtypes: float64(6), int64(1), object(4)\n",
      "memory usage: 10.6+ MB\n"
     ]
    }
   ],
   "source": [
    "df.info()"
   ]
  },
  {
   "cell_type": "code",
   "execution_count": 21,
   "id": "beed57f4-258c-4faf-9b29-af0ee62abbd4",
   "metadata": {},
   "outputs": [
    {
     "data": {
      "text/plain": [
       "array(['1.016', '0', '2.54', 'T', '3.556', '0.508', '0.254', '1.778',\n",
       "       '3.302', '0.762', '5.588', '5.08', '2.032', '25.654', '40.132',\n",
       "       '19.05', '23.876', '4.064', '12.192', '2.794', '33.274', '19.304',\n",
       "       '47.752', '6.35', '3.048', '8.382', '10.16', '27.178', '30.48',\n",
       "       '45.212', '10.668', '15.494', '57.658', '58.166', '11.43',\n",
       "       '31.242', '17.78', '26.924', '26.67', '6.604', '5.334', '4.826',\n",
       "       '7.62', '8.636', '7.874', '12.446', '90.932', '13.462', '11.938',\n",
       "       '5.842', '4.318', '6.096', '9.144', '4.572', '9.906', '9.652',\n",
       "       '1.524', '13.97', '17.272', '33.528', '1.27', '13.716', '8.128',\n",
       "       '22.352', '39.116', '36.068', '98.044', '3.81', '14.986', '78.232',\n",
       "       '146.304', '14.732', '21.844', '120.904', '42.164', '23.368',\n",
       "       '21.082', '44.958', '2.286', '50.038', '17.526', '51.054', '7.112',\n",
       "       '25.4', '7.366', '16.256', '46.736', '8.89', '24.638', '11.684',\n",
       "       '17.018', '144.78', '18.034', '50.8', '106.426', '36.576', '53.34',\n",
       "       '34.798', '12.954', '26.416', '85.598', '47.498', '12.7', '11.176',\n",
       "       '59.182', '33.782', '40.894', '28.194', '24.892', '14.478',\n",
       "       '71.628', '102.108', '31.496', '36.322', '37.846', '35.56',\n",
       "       '31.75', '49.022', '69.85', '36.83', '19.558', '127.508', '64.77',\n",
       "       '105.156', '16.002', '75.184', '143.51', '60.96', '68.58', '55.88',\n",
       "       '23.622', '126.238', '70.358', '6.858', '16.764', '24.13',\n",
       "       '52.832', '25.146', '74.676', '16.51', '65.024', '51.816',\n",
       "       '13.208', '30.226', '29.972', '215.9', '21.336', '76.962',\n",
       "       '29.464', '9.398', '15.748', '45.974', '41.148', '48.514', '33.02',\n",
       "       '10.414', '18.796', '14.224', '68.326', '80.264', '70.866',\n",
       "       '35.814', '22.86', '30.988', '20.828', '34.036', '20.066',\n",
       "       '27.432', '62.23', '37.338', '55.372', '73.66', '18.288',\n",
       "       '114.808', '56.388', '273.558', '27.686', '111.506', '101.346',\n",
       "       '120.142', '116.586', '66.294', '32.766', '55.118', '30.734',\n",
       "       '46.228', '68.072', '62.484', '72.644', '203.708', '15.24',\n",
       "       '61.214', '48.768', '10.922', '54.61', '81.788', '38.1', '37.592',\n",
       "       '18.542', '49.784', '32.258', '94.488', '67.818', '41.402',\n",
       "       '22.606', '43.434', '27.94', '61.468', '25.908', '54.102',\n",
       "       '52.578', '46.99', '177.8', '28.956', '119.38', '44.45', '85.344',\n",
       "       '95.758', '91.948', '38.354', '39.624', '80.01', '40.386',\n",
       "       '35.306', '88.646', '65.786', '136.398', '77.978', '116.84',\n",
       "       '75.438', '69.596', '42.672', '39.37', '20.574', '39.878',\n",
       "       '42.926', '38.608', '155.448', '140.716', '148.336', '19.812',\n",
       "       '60.706', '97.028', '57.912', '72.898', '65.532', '71.882',\n",
       "       '21.59', '22.098', '34.29', '35.052', '43.18', '50.546', '20.32',\n",
       "       '70.612', '67.31', '28.448', '32.004', '48.006', '76.2', '37.084',\n",
       "       '48.26', '43.942', '76.708', '52.07', '52.324', '120.396',\n",
       "       '80.518', '63.5', '125.984', '116.332', '46.482', '76.454',\n",
       "       '34.544', '42.418', '29.21', '81.28', '24.384', '58.674',\n",
       "       '108.204', '173.736', '49.53', '225.298', '206.248', '162.052',\n",
       "       '87.122', '88.138', '103.632', '82.804', '93.726', '28.702',\n",
       "       '99.06', '61.976', '51.308', '110.998', '93.98', '107.442',\n",
       "       '23.114', '92.456', '57.15', '84.074', '40.64', '62.738', '41.656',\n",
       "       '32.512', '50.292', '26.162', '53.848', '73.914', '64.516',\n",
       "       '38.862', '84.836', '103.886', '41.91', '56.896', '82.042',\n",
       "       '66.548', '60.198', '53.086', '54.356', '45.72', '29.718',\n",
       "       '43.688', '67.056', '70.104', '69.342', '86.868', '86.106',\n",
       "       '58.42', '74.168', '68.834', '97.79', '44.704', '63.754', '56.134',\n",
       "       '66.04', '85.852', '64.262', '85.09', '122.936', '44.196',\n",
       "       '231.648', '83.058', '121.666', '56.642', '51.562', '113.538',\n",
       "       '75.946', '102.362', '54.864', '78.994', '75.692', '94.742',\n",
       "       '47.244', '74.422', '152.4', '71.374', '79.248', '130.048',\n",
       "       '97.536', '99.314', '238.76', '102.87', '82.296', '94.234',\n",
       "       '125.73', '59.436', '112.014', '182.372', '127', '88.392',\n",
       "       '211.328', '82.55', '107.696', '73.406', '124.46', '163.83',\n",
       "       '107.95', '62.992', '118.618', '136.652', '55.626', '101.092',\n",
       "       '90.424', '57.404', '98.552', '90.678', '95.504', '159.512',\n",
       "       '103.378', '139.446', '234.95', '133.35', '100.33', '63.246',\n",
       "       '73.152', '81.534', '157.48', '64.008', '77.47', '77.216', '59.69',\n",
       "       '71.12', '124.206', '59.944', '104.394', '253.238', '86.614',\n",
       "       '49.276', '77.724', '123.698', '106.68', '97.282', '45.466',\n",
       "       '126.492', '53.594', '123.952', '65.278', '92.71', '79.756',\n",
       "       '166.624', '74.93', '95.25', '61.722', '148.59', '248.92',\n",
       "       '100.584', '147.828', '257.048', '307.34', '184.15', '87.376',\n",
       "       '134.874', '206.756', '110.744', '79.502', '67.564', '81.026',\n",
       "       '89.408', '164.338', '101.854', '90.17', '134.62', '58.928',\n",
       "       '83.82', '121.92', '69.088', '91.694', '60.452', '105.41',\n",
       "       '143.002', '137.922', '87.884', '88.9', '112.776', '78.486',\n",
       "       '72.136', '194.564', '112.522', '134.112', '128.778', '83.312',\n",
       "       '96.774', '168.656', '78.74', '117.348', '80.772', '125.222',\n",
       "       '182.626', '132.588', '209.804', '116.078', '89.154', '129.54',\n",
       "       '96.266', '86.36', '117.602', '83.566', '92.964', '109.982',\n",
       "       '92.202', '149.352', '66.802', '122.174', '233.172', '200.406',\n",
       "       '124.968', '89.916', '139.954', '184.404', '91.44', '89.662',\n",
       "       '100.838', '101.6', '119.634', '98.298', '94.996', '132.842',\n",
       "       '84.328', '130.556', '99.822', '109.728', '91.186', '96.52',\n",
       "       '106.172', '72.39', '104.648', '238.506', '139.192', '132.334',\n",
       "       '113.03', '175.006', '124.714', '150.114', '125.476', '119.888',\n",
       "       '133.858', '167.386', '114.554', '115.316', '84.582', '185.166',\n",
       "       '104.902', '111.252', '164.846', '118.872', '167.64', '163.322',\n",
       "       '111.76', '104.14', '194.31', '140.208', '110.236', '153.162',\n",
       "       '165.1', '242.316', '154.686', '105.918', '133.096', '161.036'],\n",
       "      dtype=object)"
      ]
     },
     "execution_count": 21,
     "metadata": {},
     "output_type": "execute_result"
    }
   ],
   "source": [
    "df[\"Precip\"].unique()"
   ]
  },
  {
   "cell_type": "code",
   "execution_count": 22,
   "id": "d69c8c55-6107-4969-bdc3-e1f8edf19b00",
   "metadata": {},
   "outputs": [],
   "source": [
    "df[\"Precip\"] = df[\"Precip\"].replace(\"T\",0)"
   ]
  },
  {
   "cell_type": "code",
   "execution_count": 23,
   "id": "e5bf0171-85be-4121-b593-5cb9ad7095e9",
   "metadata": {},
   "outputs": [],
   "source": [
    "df[\"Snowfall\"] = df[\"Snowfall\"].replace(\"#VALUE!\",np.nan)"
   ]
  },
  {
   "cell_type": "code",
   "execution_count": 24,
   "id": "619aec15-8e0f-4fe3-bdc4-6f3f46172260",
   "metadata": {},
   "outputs": [
    {
     "data": {
      "text/plain": [
       "array(['0', '22.86', '33.02', '30.48', '2.54', '5.08', '10.16', '7.62',\n",
       "       '20.32', '15.24', '17.78', '12.7', '25.4', '27.94', '43.18',\n",
       "       '38.1', '45.72', '53.34', '58.42', '66.04', '76.2', '81.28',\n",
       "       '73.66', '63.5', '50.8', '48.26', '60.96', '55.88', '35.56',\n",
       "       '78.74', '40.64', '86.36', '83.82', '68.58', nan], dtype=object)"
      ]
     },
     "execution_count": 24,
     "metadata": {},
     "output_type": "execute_result"
    }
   ],
   "source": [
    "df[\"Snowfall\"].unique()"
   ]
  },
  {
   "cell_type": "code",
   "execution_count": 25,
   "id": "3a3d9d21-3e6c-4d40-a9df-4a7bbf08191b",
   "metadata": {},
   "outputs": [],
   "source": [
    "df[\"PRCP\"] = df[\"PRCP\"].replace(\"T\",0)"
   ]
  },
  {
   "cell_type": "code",
   "execution_count": 26,
   "id": "39085989-f9f6-42e4-9555-25c684c58ee3",
   "metadata": {},
   "outputs": [
    {
     "data": {
      "text/plain": [
       "array(['0.04', '0', '0.1', 0, '0.14', '0.02', '0.01', '0.07', '0.13',\n",
       "       '0.03', '0.22', '0.2', '0.08', '1.01', '1.58', '0.75', '0.94',\n",
       "       '0.16', '0.48', '0.11', '1.31', '0.76', '1.88', '0.25', '0.12',\n",
       "       '0.33', '0.4', '1.07', '1.2', '1.78', '0.42', '0.61', '2.27',\n",
       "       '2.29', '0.45', '1.23', '0.7', '1.06', '1.05', '0.26', '0.21',\n",
       "       '0.19', '0.3', '0.34', '0.31', '0.49', '3.58', '0.53', '0.47',\n",
       "       '0.23', '0.17', '0.24', '0.36', '0.18', '0.39', '0.38', '0.06',\n",
       "       '0.55', '0.68', '1.32', '0.05', '0.54', '0.32', '0.88', '1.54',\n",
       "       '1.42', '3.86', '0.15', '0.59', '3.08', '5.76', '0.58', '0.86',\n",
       "       '4.76', '1.66', '0.92', '0.83', '1.77', '0.09', '1.97', '0.69',\n",
       "       '2.01', '0.28', '1', '0.29', '0.64', '1.84', '0.35', '0.97',\n",
       "       '0.46', '0.67', '5.7', '0.71', '2', '4.19', '1.44', '2.1', '1.37',\n",
       "       '0.51', '1.04', '3.37', '1.87', '0.5', '0.44', '2.33', '1.33',\n",
       "       '1.61', '1.11', '0.98', '0.57', '2.82', '4.02', '1.24', '1.43',\n",
       "       '1.49', '1.4', '1.25', '1.93', '2.75', '1.45', '0.77', '5.02',\n",
       "       '2.55', '4.14', '0.63', '2.96', '5.65', '2.4', '2.7', '2.2',\n",
       "       '0.93', '4.97', '2.77', '0.27', '0.66', '0.95', '2.08', '0.99',\n",
       "       '2.94', '0.65', '2.56', '2.04', '0.52', '1.19', '1.18', '8.5',\n",
       "       '0.84', '3.03', '1.16', '0.37', '0.62', '1.81', '1.62', '1.91',\n",
       "       '1.3', '0.41', '0.74', '0.56', '2.69', '3.16', '2.79', '1.41',\n",
       "       '0.9', '1.22', '0.82', '1.34', '0.79', '1.08', '2.45', '1.47',\n",
       "       '2.18', '2.9', '0.72', '4.52', '2.22', '10.77', '1.09', '4.39',\n",
       "       '3.99', '4.73', '4.59', '2.61', '1.29', '2.17', '1.21', '1.82',\n",
       "       '2.68', '2.46', '2.86', '8.02', '0.6', '2.41', '1.92', '0.43',\n",
       "       '2.15', '3.22', '1.5', '1.48', '0.73', '1.96', '1.27', '3.72',\n",
       "       '2.67', '1.63', '0.89', '1.71', '1.1', '2.42', '1.02', '2.13',\n",
       "       '2.07', '1.85', '7', '1.14', '4.7', '1.75', '3.36', '3.77', '3.62',\n",
       "       '1.51', '1.56', '3.15', '1.59', '1.39', '3.49', '2.59', '5.37',\n",
       "       '3.07', '4.6', '2.97', '2.74', '1.68', '1.55', '0.81', '1.57',\n",
       "       '1.69', '1.52', '6.12', '5.54', '5.84', '0.78', '2.39', '3.82',\n",
       "       '2.28', '2.87', '2.58', '2.83', '0.85', '0.87', '1.35', '1.38',\n",
       "       '1.7', '1.99', '0.8', '2.78', '2.65', '1.12', '1.26', '1.89', '3',\n",
       "       '1.46', '1.9', '1.73', '3.02', '2.05', '2.06', '4.74', '3.17',\n",
       "       '2.5', '4.96', '4.58', '1.83', '3.01', '1.36', '1.67', '1.15',\n",
       "       '3.2', '0.96', '2.31', '4.26', '6.84', '1.95', '8.87', '8.12',\n",
       "       '6.38', '3.43', '3.47', '4.08', '3.26', '3.69', '1.13', '3.9',\n",
       "       '2.44', '2.02', '4.37', '3.7', '4.23', '0.91', '3.64', '2.25',\n",
       "       '3.31', '1.6', '2.47', '1.64', '1.28', '1.98', '1.03', '2.12',\n",
       "       '2.91', '2.54', '1.53', '3.34', '4.09', '1.65', '2.24', '3.23',\n",
       "       '2.62', '2.37', '2.09', '2.14', '1.8', '1.17', '1.72', '2.64',\n",
       "       '2.76', '2.73', '3.42', '3.39', '2.3', '2.92', '2.71', '3.85',\n",
       "       '1.76', '2.51', '2.21', '2.6', '3.38', '2.53', '3.35', '4.84',\n",
       "       '1.74', '9.12', '3.27', '4.79', '2.23', '2.03', '4.47', '2.99',\n",
       "       '4.03', '2.16', '3.11', '2.98', '3.73', '1.86', '2.93', '6',\n",
       "       '2.81', '3.12', '5.12', '3.84', '3.91', '9.4', '4.05', '3.24',\n",
       "       '3.71', '4.95', '2.34', '4.41', '7.18', '5', '3.48', '8.32',\n",
       "       '3.25', '4.24', '2.89', '4.9', '6.45', '4.25', '2.48', '4.67',\n",
       "       '5.38', '2.19', '3.98', '3.56', '2.26', '3.88', '3.57', '3.76',\n",
       "       '6.28', '4.07', '5.49', '9.25', '5.25', '3.95', '2.49', '2.88',\n",
       "       '3.21', '6.2', '2.52', '3.05', '3.04', '2.35', '2.8', '4.89',\n",
       "       '2.36', '4.11', '9.97', '3.41', '1.94', '3.06', '4.87', '4.2',\n",
       "       '3.83', '1.79', '4.98', '2.11', '4.88', '2.57', '3.65', '3.14',\n",
       "       '6.56', '2.95', '3.75', '2.43', '5.85', '9.8', '3.96', '5.82',\n",
       "       '10.12', '12.1', '7.25', '3.44', '5.31', '8.14', '4.36', '3.13',\n",
       "       '2.66', '3.19', '3.52', '6.47', '4.01', '3.55', '5.3', '2.32',\n",
       "       '3.3', '4.8', '2.72', '3.61', '2.38', '4.15', '5.63', '5.43',\n",
       "       '3.46', '3.5', '4.44', '3.09', '2.84', '7.66', '4.43', '5.28',\n",
       "       '5.07', '3.28', '3.81', '6.64', '3.1', '4.62', '3.18', '4.93',\n",
       "       '7.19', '5.22', '8.26', '4.57', '3.51', '5.1', '3.79', '3.4',\n",
       "       '4.63', '3.29', '3.66', '4.33', '3.63', '5.88', '2.63', '4.81',\n",
       "       '9.18', '7.89', '4.92', '3.54', '5.51', '7.26', '3.6', '3.53',\n",
       "       '3.97', '4', '4.71', '3.87', '3.74', '5.23', '3.32', '5.14',\n",
       "       '3.93', '4.32', '3.59', '3.8', '4.18', '2.85', '4.12', '9.39',\n",
       "       '5.48', '5.21', '4.45', '6.89', '4.91', '5.91', '4.94', '4.72',\n",
       "       '5.27', '6.59', '4.51', '4.54', '3.33', '7.29', '4.13', '4.38',\n",
       "       '6.49', '4.68', '6.6', '6.43', '4.4', '4.1', '7.65', '5.52',\n",
       "       '4.34', '6.03', '6.5', '9.54', '6.09', '4.17', '5.24', '6.34'],\n",
       "      dtype=object)"
      ]
     },
     "execution_count": 26,
     "metadata": {},
     "output_type": "execute_result"
    }
   ],
   "source": [
    "df[\"PRCP\"].unique()"
   ]
  },
  {
   "cell_type": "code",
   "execution_count": 27,
   "id": "27f6521b-918c-479e-bbe7-9925f286bb2e",
   "metadata": {},
   "outputs": [],
   "source": [
    "df[\"SNF\"] = df[\"SNF\"].replace(\"T\",np.nan)"
   ]
  },
  {
   "cell_type": "code",
   "execution_count": 28,
   "id": "55a3d196-841b-422b-a6da-4c12a866711a",
   "metadata": {},
   "outputs": [],
   "source": [
    "for column in df.columns:\n",
    "    if df[column].dtype == \"object\":\n",
    "        df[column] = pd.to_numeric(df[column])"
   ]
  },
  {
   "cell_type": "code",
   "execution_count": 29,
   "id": "f35ee164-1b95-4717-b669-026d2e928480",
   "metadata": {},
   "outputs": [
    {
     "name": "stdout",
     "output_type": "stream",
     "text": [
      "<class 'pandas.core.frame.DataFrame'>\n",
      "Index: 116174 entries, 0 to 119039\n",
      "Data columns (total 11 columns):\n",
      " #   Column     Non-Null Count   Dtype  \n",
      "---  ------     --------------   -----  \n",
      " 0   STA        116174 non-null  int64  \n",
      " 1   Precip     116174 non-null  float64\n",
      " 2   MaxTemp    116174 non-null  float64\n",
      " 3   MeanTemp   116174 non-null  float64\n",
      " 4   Snowfall   116130 non-null  float64\n",
      " 5   PRCP       116174 non-null  float64\n",
      " 6   SNF        116130 non-null  float64\n",
      " 7   Month_sin  116174 non-null  float64\n",
      " 8   Month_cos  116174 non-null  float64\n",
      " 9   Day_sin    116174 non-null  float64\n",
      " 10  Day_cos    116174 non-null  float64\n",
      "dtypes: float64(10), int64(1)\n",
      "memory usage: 10.6 MB\n"
     ]
    }
   ],
   "source": [
    "df.info()"
   ]
  },
  {
   "cell_type": "code",
   "execution_count": 30,
   "id": "13180ca0-4d99-4c75-bc33-af9fe75112fa",
   "metadata": {},
   "outputs": [],
   "source": [
    "correlation = df['PRCP'].corr(df['Precip'])"
   ]
  },
  {
   "cell_type": "code",
   "execution_count": 31,
   "id": "bde8a814-2e36-4be5-98ca-b7cbaecc38c2",
   "metadata": {},
   "outputs": [
    {
     "data": {
      "text/plain": [
       "np.float64(1.0)"
      ]
     },
     "execution_count": 31,
     "metadata": {},
     "output_type": "execute_result"
    }
   ],
   "source": [
    "correlation"
   ]
  },
  {
   "cell_type": "code",
   "execution_count": 32,
   "id": "a14eb61a-c728-41e5-9e3f-ea7a2d33f410",
   "metadata": {},
   "outputs": [
    {
     "data": {
      "text/plain": [
       "np.float64(1.0)"
      ]
     },
     "execution_count": 32,
     "metadata": {},
     "output_type": "execute_result"
    }
   ],
   "source": [
    " df['SNF'].corr(df['Snowfall'])"
   ]
  },
  {
   "cell_type": "code",
   "execution_count": 33,
   "id": "60fdd99a-f28e-4e2e-9f2a-427a3558508c",
   "metadata": {},
   "outputs": [
    {
     "data": {
      "text/html": [
       "<div>\n",
       "<style scoped>\n",
       "    .dataframe tbody tr th:only-of-type {\n",
       "        vertical-align: middle;\n",
       "    }\n",
       "\n",
       "    .dataframe tbody tr th {\n",
       "        vertical-align: top;\n",
       "    }\n",
       "\n",
       "    .dataframe thead th {\n",
       "        text-align: right;\n",
       "    }\n",
       "</style>\n",
       "<table border=\"1\" class=\"dataframe\">\n",
       "  <thead>\n",
       "    <tr style=\"text-align: right;\">\n",
       "      <th></th>\n",
       "      <th>STA</th>\n",
       "      <th>Precip</th>\n",
       "      <th>MaxTemp</th>\n",
       "      <th>MeanTemp</th>\n",
       "      <th>Snowfall</th>\n",
       "      <th>PRCP</th>\n",
       "      <th>SNF</th>\n",
       "      <th>Month_sin</th>\n",
       "      <th>Month_cos</th>\n",
       "      <th>Day_sin</th>\n",
       "      <th>Day_cos</th>\n",
       "    </tr>\n",
       "  </thead>\n",
       "  <tbody>\n",
       "    <tr>\n",
       "      <th>0</th>\n",
       "      <td>10001</td>\n",
       "      <td>1.016</td>\n",
       "      <td>25.555556</td>\n",
       "      <td>23.888889</td>\n",
       "      <td>0.0</td>\n",
       "      <td>0.04</td>\n",
       "      <td>0.0</td>\n",
       "      <td>-0.5</td>\n",
       "      <td>-0.866025</td>\n",
       "      <td>0.008607</td>\n",
       "      <td>-0.999963</td>\n",
       "    </tr>\n",
       "    <tr>\n",
       "      <th>1</th>\n",
       "      <td>10001</td>\n",
       "      <td>0.000</td>\n",
       "      <td>28.888889</td>\n",
       "      <td>25.555556</td>\n",
       "      <td>0.0</td>\n",
       "      <td>0.00</td>\n",
       "      <td>0.0</td>\n",
       "      <td>-0.5</td>\n",
       "      <td>-0.866025</td>\n",
       "      <td>-0.008607</td>\n",
       "      <td>-0.999963</td>\n",
       "    </tr>\n",
       "    <tr>\n",
       "      <th>2</th>\n",
       "      <td>10001</td>\n",
       "      <td>2.540</td>\n",
       "      <td>26.111111</td>\n",
       "      <td>24.444444</td>\n",
       "      <td>0.0</td>\n",
       "      <td>0.10</td>\n",
       "      <td>0.0</td>\n",
       "      <td>-0.5</td>\n",
       "      <td>-0.866025</td>\n",
       "      <td>-0.025818</td>\n",
       "      <td>-0.999667</td>\n",
       "    </tr>\n",
       "    <tr>\n",
       "      <th>3</th>\n",
       "      <td>10001</td>\n",
       "      <td>2.540</td>\n",
       "      <td>26.666667</td>\n",
       "      <td>24.444444</td>\n",
       "      <td>0.0</td>\n",
       "      <td>0.10</td>\n",
       "      <td>0.0</td>\n",
       "      <td>-0.5</td>\n",
       "      <td>-0.866025</td>\n",
       "      <td>-0.043022</td>\n",
       "      <td>-0.999074</td>\n",
       "    </tr>\n",
       "    <tr>\n",
       "      <th>4</th>\n",
       "      <td>10001</td>\n",
       "      <td>0.000</td>\n",
       "      <td>26.666667</td>\n",
       "      <td>24.444444</td>\n",
       "      <td>0.0</td>\n",
       "      <td>0.00</td>\n",
       "      <td>0.0</td>\n",
       "      <td>-0.5</td>\n",
       "      <td>-0.866025</td>\n",
       "      <td>-0.060213</td>\n",
       "      <td>-0.998186</td>\n",
       "    </tr>\n",
       "  </tbody>\n",
       "</table>\n",
       "</div>"
      ],
      "text/plain": [
       "     STA  Precip    MaxTemp   MeanTemp  Snowfall  PRCP  SNF  Month_sin  \\\n",
       "0  10001   1.016  25.555556  23.888889       0.0  0.04  0.0       -0.5   \n",
       "1  10001   0.000  28.888889  25.555556       0.0  0.00  0.0       -0.5   \n",
       "2  10001   2.540  26.111111  24.444444       0.0  0.10  0.0       -0.5   \n",
       "3  10001   2.540  26.666667  24.444444       0.0  0.10  0.0       -0.5   \n",
       "4  10001   0.000  26.666667  24.444444       0.0  0.00  0.0       -0.5   \n",
       "\n",
       "   Month_cos   Day_sin   Day_cos  \n",
       "0  -0.866025  0.008607 -0.999963  \n",
       "1  -0.866025 -0.008607 -0.999963  \n",
       "2  -0.866025 -0.025818 -0.999667  \n",
       "3  -0.866025 -0.043022 -0.999074  \n",
       "4  -0.866025 -0.060213 -0.998186  "
      ]
     },
     "execution_count": 33,
     "metadata": {},
     "output_type": "execute_result"
    }
   ],
   "source": [
    "df.head()"
   ]
  },
  {
   "cell_type": "code",
   "execution_count": 34,
   "id": "2714f262-17e9-453f-9164-a53bd236ff7d",
   "metadata": {},
   "outputs": [
    {
     "name": "stdout",
     "output_type": "stream",
     "text": [
      "PRCP stats:\n",
      "count    116174.000000\n",
      "mean          0.129470\n",
      "std           0.429576\n",
      "min           0.000000\n",
      "25%           0.000000\n",
      "50%           0.000000\n",
      "75%           0.040000\n",
      "max          12.100000\n",
      "Name: PRCP, dtype: float64\n",
      "\n",
      "Precip stats:\n",
      "count    116174.000000\n",
      "mean          3.288536\n",
      "std          10.911231\n",
      "min           0.000000\n",
      "25%           0.000000\n",
      "50%           0.000000\n",
      "75%           1.016000\n",
      "max         307.340000\n",
      "Name: Precip, dtype: float64\n",
      "\n",
      "PRCP-Precip korelasyonu: 1.0\n",
      "PRCP-MeanTemp korelasyonu: 0.043446065960815516\n",
      "Precip-MeanTemp korelasyonu: 0.0434460659608155\n"
     ]
    }
   ],
   "source": [
    "print(\"PRCP stats:\")\n",
    "print(df['PRCP'].describe())\n",
    "print(\"\\nPrecip stats:\")\n",
    "print(df['Precip'].describe())\n",
    "\n",
    "# 2. Korelasyonu kontrol et\n",
    "correlation = df['PRCP'].corr(df['Precip'])\n",
    "print(f\"\\nPRCP-Precip korelasyonu: {correlation}\")\n",
    "\n",
    "# 3. Target ile korelasyonları\n",
    "target_corr_prcp = df['PRCP'].corr(df['MeanTemp'])\n",
    "target_corr_precip = df['Precip'].corr(df['MeanTemp'])\n",
    "print(f\"PRCP-MeanTemp korelasyonu: {target_corr_prcp}\")\n",
    "print(f\"Precip-MeanTemp korelasyonu: {target_corr_precip}\")"
   ]
  },
  {
   "cell_type": "code",
   "execution_count": 35,
   "id": "85b8d220-16c3-4640-8b94-853bc3c3104a",
   "metadata": {},
   "outputs": [],
   "source": [
    "df.drop([\"PRCP\",\"SNF\"],inplace=True,axis=1)"
   ]
  },
  {
   "cell_type": "code",
   "execution_count": 36,
   "id": "3f59fb50-5f36-4a66-831c-fb916b595641",
   "metadata": {},
   "outputs": [
    {
     "name": "stdout",
     "output_type": "stream",
     "text": [
      "<class 'pandas.core.frame.DataFrame'>\n",
      "Index: 116174 entries, 0 to 119039\n",
      "Data columns (total 9 columns):\n",
      " #   Column     Non-Null Count   Dtype  \n",
      "---  ------     --------------   -----  \n",
      " 0   STA        116174 non-null  int64  \n",
      " 1   Precip     116174 non-null  float64\n",
      " 2   MaxTemp    116174 non-null  float64\n",
      " 3   MeanTemp   116174 non-null  float64\n",
      " 4   Snowfall   116130 non-null  float64\n",
      " 5   Month_sin  116174 non-null  float64\n",
      " 6   Month_cos  116174 non-null  float64\n",
      " 7   Day_sin    116174 non-null  float64\n",
      " 8   Day_cos    116174 non-null  float64\n",
      "dtypes: float64(8), int64(1)\n",
      "memory usage: 8.9 MB\n"
     ]
    }
   ],
   "source": [
    "df.info()"
   ]
  },
  {
   "cell_type": "code",
   "execution_count": 37,
   "id": "7204f2b2-21e5-4420-9ee6-28c48ca013b6",
   "metadata": {},
   "outputs": [],
   "source": [
    "df[\"Snowfall\"] = df[\"Snowfall\"].fillna(df[\"Snowfall\"].mean())"
   ]
  },
  {
   "cell_type": "code",
   "execution_count": 38,
   "id": "39341ef8-f7a0-4612-a193-1523d381ac51",
   "metadata": {},
   "outputs": [
    {
     "name": "stdout",
     "output_type": "stream",
     "text": [
      "<class 'pandas.core.frame.DataFrame'>\n",
      "Index: 116174 entries, 0 to 119039\n",
      "Data columns (total 9 columns):\n",
      " #   Column     Non-Null Count   Dtype  \n",
      "---  ------     --------------   -----  \n",
      " 0   STA        116174 non-null  int64  \n",
      " 1   Precip     116174 non-null  float64\n",
      " 2   MaxTemp    116174 non-null  float64\n",
      " 3   MeanTemp   116174 non-null  float64\n",
      " 4   Snowfall   116174 non-null  float64\n",
      " 5   Month_sin  116174 non-null  float64\n",
      " 6   Month_cos  116174 non-null  float64\n",
      " 7   Day_sin    116174 non-null  float64\n",
      " 8   Day_cos    116174 non-null  float64\n",
      "dtypes: float64(8), int64(1)\n",
      "memory usage: 8.9 MB\n"
     ]
    }
   ],
   "source": [
    "df.info()"
   ]
  },
  {
   "cell_type": "code",
   "execution_count": 39,
   "id": "7957bf19-bd28-42ef-8b7a-54295ffee31f",
   "metadata": {},
   "outputs": [
    {
     "data": {
      "image/png": "[encoded data removed]",
      "text/plain": [
       "<Figure size 640x480 with 1 Axes>"
      ]
     },
     "metadata": {},
     "output_type": "display_data"
    }
   ],
   "source": [
    "sns.histplot(df[\"MeanTemp\"],kde=True)\n",
    "plt.title(\"Ortalama Sıcaklık Dağılımı °C\")\n",
    "plt.show()"
   ]
  },
  {
   "cell_type": "code",
   "execution_count": 40,
   "id": "fa3945da-84ca-44aa-9564-a7c41f85280f",
   "metadata": {},
   "outputs": [
    {
     "data": {
      "text/html": [
       "<div>\n",
       "<style scoped>\n",
       "    .dataframe tbody tr th:only-of-type {\n",
       "        vertical-align: middle;\n",
       "    }\n",
       "\n",
       "    .dataframe tbody tr th {\n",
       "        vertical-align: top;\n",
       "    }\n",
       "\n",
       "    .dataframe thead th {\n",
       "        text-align: right;\n",
       "    }\n",
       "</style>\n",
       "<table border=\"1\" class=\"dataframe\">\n",
       "  <thead>\n",
       "    <tr style=\"text-align: right;\">\n",
       "      <th></th>\n",
       "      <th>STA</th>\n",
       "      <th>Precip</th>\n",
       "      <th>MaxTemp</th>\n",
       "      <th>MeanTemp</th>\n",
       "      <th>Snowfall</th>\n",
       "      <th>Month_sin</th>\n",
       "      <th>Month_cos</th>\n",
       "      <th>Day_sin</th>\n",
       "      <th>Day_cos</th>\n",
       "    </tr>\n",
       "  </thead>\n",
       "  <tbody>\n",
       "    <tr>\n",
       "      <th>STA</th>\n",
       "      <td>1.000000</td>\n",
       "      <td>0.013028</td>\n",
       "      <td>0.080677</td>\n",
       "      <td>0.067622</td>\n",
       "      <td>-0.058823</td>\n",
       "      <td>0.007380</td>\n",
       "      <td>-0.011378</td>\n",
       "      <td>0.010155</td>\n",
       "      <td>-0.009252</td>\n",
       "    </tr>\n",
       "    <tr>\n",
       "      <th>Precip</th>\n",
       "      <td>0.013028</td>\n",
       "      <td>1.000000</td>\n",
       "      <td>-0.001494</td>\n",
       "      <td>0.043446</td>\n",
       "      <td>-0.011603</td>\n",
       "      <td>-0.056970</td>\n",
       "      <td>-0.034334</td>\n",
       "      <td>-0.047120</td>\n",
       "      <td>-0.049195</td>\n",
       "    </tr>\n",
       "    <tr>\n",
       "      <th>MaxTemp</th>\n",
       "      <td>0.080677</td>\n",
       "      <td>-0.001494</td>\n",
       "      <td>1.000000</td>\n",
       "      <td>0.967658</td>\n",
       "      <td>-0.339872</td>\n",
       "      <td>-0.102622</td>\n",
       "      <td>-0.199682</td>\n",
       "      <td>-0.048223</td>\n",
       "      <td>-0.222133</td>\n",
       "    </tr>\n",
       "    <tr>\n",
       "      <th>MeanTemp</th>\n",
       "      <td>0.067622</td>\n",
       "      <td>0.043446</td>\n",
       "      <td>0.967658</td>\n",
       "      <td>1.000000</td>\n",
       "      <td>-0.341086</td>\n",
       "      <td>-0.132497</td>\n",
       "      <td>-0.207416</td>\n",
       "      <td>-0.075140</td>\n",
       "      <td>-0.237630</td>\n",
       "    </tr>\n",
       "    <tr>\n",
       "      <th>Snowfall</th>\n",
       "      <td>-0.058823</td>\n",
       "      <td>-0.011603</td>\n",
       "      <td>-0.339872</td>\n",
       "      <td>-0.341086</td>\n",
       "      <td>1.000000</td>\n",
       "      <td>0.071801</td>\n",
       "      <td>0.046579</td>\n",
       "      <td>0.058113</td>\n",
       "      <td>0.064814</td>\n",
       "    </tr>\n",
       "    <tr>\n",
       "      <th>Month_sin</th>\n",
       "      <td>0.007380</td>\n",
       "      <td>-0.056970</td>\n",
       "      <td>-0.102622</td>\n",
       "      <td>-0.132497</td>\n",
       "      <td>0.071801</td>\n",
       "      <td>1.000000</td>\n",
       "      <td>-0.017056</td>\n",
       "      <td>0.954797</td>\n",
       "      <td>0.237238</td>\n",
       "    </tr>\n",
       "    <tr>\n",
       "      <th>Month_cos</th>\n",
       "      <td>-0.011378</td>\n",
       "      <td>-0.034334</td>\n",
       "      <td>-0.199682</td>\n",
       "      <td>-0.207416</td>\n",
       "      <td>0.046579</td>\n",
       "      <td>-0.017056</td>\n",
       "      <td>1.000000</td>\n",
       "      <td>-0.271799</td>\n",
       "      <td>0.955603</td>\n",
       "    </tr>\n",
       "    <tr>\n",
       "      <th>Day_sin</th>\n",
       "      <td>0.010155</td>\n",
       "      <td>-0.047120</td>\n",
       "      <td>-0.048223</td>\n",
       "      <td>-0.075140</td>\n",
       "      <td>0.058113</td>\n",
       "      <td>0.954797</td>\n",
       "      <td>-0.271799</td>\n",
       "      <td>1.000000</td>\n",
       "      <td>-0.018260</td>\n",
       "    </tr>\n",
       "    <tr>\n",
       "      <th>Day_cos</th>\n",
       "      <td>-0.009252</td>\n",
       "      <td>-0.049195</td>\n",
       "      <td>-0.222133</td>\n",
       "      <td>-0.237630</td>\n",
       "      <td>0.064814</td>\n",
       "      <td>0.237238</td>\n",
       "      <td>0.955603</td>\n",
       "      <td>-0.018260</td>\n",
       "      <td>1.000000</td>\n",
       "    </tr>\n",
       "  </tbody>\n",
       "</table>\n",
       "</div>"
      ],
      "text/plain": [
       "                STA    Precip   MaxTemp  MeanTemp  Snowfall  Month_sin  \\\n",
       "STA        1.000000  0.013028  0.080677  0.067622 -0.058823   0.007380   \n",
       "Precip     0.013028  1.000000 -0.001494  0.043446 -0.011603  -0.056970   \n",
       "MaxTemp    0.080677 -0.001494  1.000000  0.967658 -0.339872  -0.102622   \n",
       "MeanTemp   0.067622  0.043446  0.967658  1.000000 -0.341086  -0.132497   \n",
       "Snowfall  -0.058823 -0.011603 -0.339872 -0.341086  1.000000   0.071801   \n",
       "Month_sin  0.007380 -0.056970 -0.102622 -0.132497  0.071801   1.000000   \n",
       "Month_cos -0.011378 -0.034334 -0.199682 -0.207416  0.046579  -0.017056   \n",
       "Day_sin    0.010155 -0.047120 -0.048223 -0.075140  0.058113   0.954797   \n",
       "Day_cos   -0.009252 -0.049195 -0.222133 -0.237630  0.064814   0.237238   \n",
       "\n",
       "           Month_cos   Day_sin   Day_cos  \n",
       "STA        -0.011378  0.010155 -0.009252  \n",
       "Precip     -0.034334 -0.047120 -0.049195  \n",
       "MaxTemp    -0.199682 -0.048223 -0.222133  \n",
       "MeanTemp   -0.207416 -0.075140 -0.237630  \n",
       "Snowfall    0.046579  0.058113  0.064814  \n",
       "Month_sin  -0.017056  0.954797  0.237238  \n",
       "Month_cos   1.000000 -0.271799  0.955603  \n",
       "Day_sin    -0.271799  1.000000 -0.018260  \n",
       "Day_cos     0.955603 -0.018260  1.000000  "
      ]
     },
     "execution_count": 40,
     "metadata": {},
     "output_type": "execute_result"
    }
   ],
   "source": [
    "df.corr()"
   ]
  },
  {
   "cell_type": "code",
   "execution_count": 41,
   "id": "a588da9d-0004-414b-8c05-c837469f25d4",
   "metadata": {},
   "outputs": [
    {
     "data": {
      "image/png": "[encoded data removed]",
      "text/plain": [
       "<Figure size 640x480 with 2 Axes>"
      ]
     },
     "metadata": {},
     "output_type": "display_data"
    }
   ],
   "source": [
    "sns.heatmap(df.corr())\n",
    "plt.show()"
   ]
  },
  {
   "cell_type": "code",
   "execution_count": 42,
   "id": "ba4d17e6-a4cc-44b9-abd6-caec2fd685bb",
   "metadata": {},
   "outputs": [],
   "source": [
    "#sns.pairplot(df)\n",
    "#plt.show()"
   ]
  },
  {
   "cell_type": "code",
   "execution_count": 43,
   "id": "a62e774f-9667-4016-adf0-b19dbd156234",
   "metadata": {},
   "outputs": [],
   "source": [
    "df.drop(\"STA\",axis=1,inplace=True)"
   ]
  },
  {
   "cell_type": "code",
   "execution_count": 44,
   "id": "ec9dc363-5adc-4c77-b840-35b97a690eb0",
   "metadata": {},
   "outputs": [
    {
     "name": "stdout",
     "output_type": "stream",
     "text": [
      "<class 'pandas.core.frame.DataFrame'>\n",
      "Index: 116174 entries, 0 to 119039\n",
      "Data columns (total 8 columns):\n",
      " #   Column     Non-Null Count   Dtype  \n",
      "---  ------     --------------   -----  \n",
      " 0   Precip     116174 non-null  float64\n",
      " 1   MaxTemp    116174 non-null  float64\n",
      " 2   MeanTemp   116174 non-null  float64\n",
      " 3   Snowfall   116174 non-null  float64\n",
      " 4   Month_sin  116174 non-null  float64\n",
      " 5   Month_cos  116174 non-null  float64\n",
      " 6   Day_sin    116174 non-null  float64\n",
      " 7   Day_cos    116174 non-null  float64\n",
      "dtypes: float64(8)\n",
      "memory usage: 8.0 MB\n"
     ]
    }
   ],
   "source": [
    "df.info()"
   ]
  },
  {
   "cell_type": "code",
   "execution_count": 45,
   "id": "7fce8287-1931-48bf-83c0-bb4c96977dff",
   "metadata": {},
   "outputs": [],
   "source": [
    "# dependent & independent features\n",
    "X = df.drop(\"MeanTemp\",axis=1)\n",
    "y = df[\"MeanTemp\"]"
   ]
  },
  {
   "cell_type": "code",
   "execution_count": 46,
   "id": "23c19234-3f91-44e1-bffe-49286a0a8024",
   "metadata": {},
   "outputs": [],
   "source": [
    "from sklearn.model_selection import train_test_split\n",
    "\n",
    "X_train , X_test , y_train , y_test = train_test_split(X,y,test_size=0.25,random_state=15)"
   ]
  },
  {
   "cell_type": "code",
   "execution_count": 47,
   "id": "538f044c-1870-48a0-afee-1296ea610e60",
   "metadata": {},
   "outputs": [],
   "source": [
    "from sklearn.preprocessing import StandardScaler\n",
    "scaler = StandardScaler()"
   ]
  },
  {
   "cell_type": "code",
   "execution_count": 48,
   "id": "a7031fff-da51-4e99-9f78-88a12cb4e862",
   "metadata": {},
   "outputs": [],
   "source": [
    "X_train_scaled = scaler.fit_transform(X_train)\n",
    "X_test_scaled = scaler.transform(X_test)"
   ]
  },
  {
   "cell_type": "code",
   "execution_count": 49,
   "id": "20da11ba-70a4-4bc2-8760-39e4bfdea58b",
   "metadata": {},
   "outputs": [],
   "source": [
    "from sklearn.linear_model import LinearRegression\n",
    "from sklearn.metrics import mean_absolute_error,mean_squared_error,r2_score"
   ]
  },
  {
   "cell_type": "code",
   "execution_count": 54,
   "id": "90c3a587-eda7-4170-b77c-bde5001efcfa",
   "metadata": {},
   "outputs": [
    {
     "name": "stdout",
     "output_type": "stream",
     "text": [
      "mae: 1.5181270841059076\n",
      "mse: 3.825542059626959\n",
      "score: 0.9403658339734199\n"
     ]
    },
    {
     "data": {
      "image/png": "[encoded data removed]",
      "text/plain": [
       "<Figure size 640x480 with 1 Axes>"
      ]
     },
     "metadata": {},
     "output_type": "display_data"
    }
   ],
   "source": [
    "linear = LinearRegression()\n",
    "linear.fit(X_train_scaled,y_train)\n",
    "y_pred = linear.predict(X_test_scaled)\n",
    "mae = mean_absolute_error(y_test,y_pred)\n",
    "mse = mean_squared_error(y_test,y_pred)\n",
    "score = r2_score(y_test,y_pred)\n",
    "print(\"mae:\",mae)\n",
    "print(\"mse:\",mse)\n",
    "print(\"score:\",score)\n",
    "\n",
    "\n",
    "plt.scatter(y_test, y_pred, color=\"red\", edgecolors=\"darkred\", alpha=0.7)\n",
    "plt.show()"
   ]
  },
  {
   "cell_type": "code",
   "execution_count": 55,
   "id": "99315a31-eb70-4b45-98fe-cdf8087b2b84",
   "metadata": {},
   "outputs": [
    {
     "name": "stdout",
     "output_type": "stream",
     "text": [
      "mae: 1.7643075552843395\n",
      "mse: 5.010067722829284\n",
      "score: 0.9219009474393949\n"
     ]
    },
    {
     "data": {
      "image/png": "[encoded data removed]",
      "text/plain": [
       "<Figure size 640x480 with 1 Axes>"
      ]
     },
     "metadata": {},
     "output_type": "display_data"
    }
   ],
   "source": [
    "from sklearn.linear_model import Lasso\n",
    "lasso = Lasso()\n",
    "lasso.fit(X_train_scaled,y_train)\n",
    "y_pred = lasso.predict(X_test_scaled)\n",
    "mae = mean_absolute_error(y_test,y_pred)\n",
    "mse = mean_squared_error(y_test,y_pred)\n",
    "score = r2_score(y_test,y_pred)\n",
    "print(\"mae:\",mae)\n",
    "print(\"mse:\",mse)\n",
    "print(\"score:\",score)\n",
    "\n",
    "plt.scatter(y_test, y_pred, color=\"red\", edgecolors=\"darkred\", alpha=0.7)\n",
    "plt.show()"
   ]
  },
  {
   "cell_type": "code",
   "execution_count": 56,
   "id": "a60ecb52-afe5-4b92-aa5a-f2be5f785c89",
   "metadata": {},
   "outputs": [
    {
     "name": "stdout",
     "output_type": "stream",
     "text": [
      "mae: 1.5181271120389208\n",
      "mse: 3.8255396458606232\n",
      "score: 0.9403658716002294\n"
     ]
    },
    {
     "data": {
      "image/png": "[encoded data removed]",
      "text/plain": [
       "<Figure size 640x480 with 1 Axes>"
      ]
     },
     "metadata": {},
     "output_type": "display_data"
    }
   ],
   "source": [
    "from sklearn.linear_model import Ridge\n",
    "ridge = Ridge()\n",
    "ridge.fit(X_train_scaled,y_train)\n",
    "y_pred = ridge.predict(X_test_scaled)\n",
    "mae = mean_absolute_error(y_test,y_pred)\n",
    "mse = mean_squared_error(y_test,y_pred)\n",
    "score = r2_score(y_test,y_pred)\n",
    "print(\"mae:\",mae)\n",
    "print(\"mse:\",mse)\n",
    "print(\"score:\",score)\n",
    "\n",
    "\n",
    "plt.scatter(y_test, y_pred, color=\"red\", edgecolors=\"darkred\", alpha=0.7)\n",
    "plt.show()"
   ]
  },
  {
   "cell_type": "code",
   "execution_count": 57,
   "id": "0a5b9bd4-ce69-4e06-81a6-ef6c4f169b73",
   "metadata": {},
   "outputs": [
    {
     "name": "stdout",
     "output_type": "stream",
     "text": [
      "mae: 2.611323539405973\n",
      "mse: 12.194188774922262\n",
      "score: 0.809911832982413\n"
     ]
    },
    {
     "data": {
      "image/png": "[encoded data removed]",
      "text/plain": [
       "<Figure size 640x480 with 1 Axes>"
      ]
     },
     "metadata": {},
     "output_type": "display_data"
    }
   ],
   "source": [
    "from sklearn.linear_model import ElasticNet\n",
    "elastic = ElasticNet()\n",
    "elastic.fit(X_train_scaled,y_train)\n",
    "y_pred = elastic.predict(X_test_scaled)\n",
    "mae = mean_absolute_error(y_test,y_pred)\n",
    "mse = mean_squared_error(y_test,y_pred)\n",
    "score = r2_score(y_test,y_pred)\n",
    "print(\"mae:\",mae)\n",
    "print(\"mse:\",mse)\n",
    "print(\"score:\",score)\n",
    "\n",
    "\n",
    "plt.scatter(y_test, y_pred, color=\"red\", edgecolors=\"darkred\", alpha=0.7)\n",
    "plt.show()"
   ]
  },
  {
   "cell_type": "code",
   "execution_count": null,
   "id": "93832b5d-5c68-45ab-9ca3-cdfb661f6075",
   "metadata": {},
   "outputs": [],
   "source": []
  }
 ],
 "metadata": {
  "kernelspec": {
   "display_name": "Python [conda env:base] *",
   "language": "python",
   "name": "conda-base-py"
  },
  "language_info": {
   "codemirror_mode": {
    "name": "ipython",
    "version": 3
   },
   "file_extension": ".py",
   "mimetype": "text/x-python",
   "name": "python",
   "nbconvert_exporter": "python",
   "pygments_lexer": "ipython3",
   "version": "3.13.5"
  },
  "widgets": {
   "application/vnd.jupyter.widget-state+json": {
    "state": {},
    "version_major": 2,
    "version_minor": 0
   }
  }
 },
 "nbformat": 4,
 "nbformat_minor": 5
}
